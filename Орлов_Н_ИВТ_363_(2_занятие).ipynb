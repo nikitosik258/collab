{
  "nbformat": 4,
  "nbformat_minor": 0,
  "metadata": {
    "colab": {
      "provenance": [],
      "authorship_tag": "ABX9TyPybo4MrmM32xR9/1CRsyk9",
      "include_colab_link": true
    },
    "kernelspec": {
      "name": "ir",
      "display_name": "R"
    },
    "language_info": {
      "name": "R"
    }
  },
  "cells": [
    {
      "cell_type": "markdown",
      "metadata": {
        "id": "view-in-github",
        "colab_type": "text"
      },
      "source": [
        "<a href=\"https://colab.research.google.com/github/nikitosik258/collab/blob/main/%D0%9E%D1%80%D0%BB%D0%BE%D0%B2_%D0%9D_%D0%98%D0%92%D0%A2_363_(2_%D0%B7%D0%B0%D0%BD%D1%8F%D1%82%D0%B8%D0%B5).ipynb\" target=\"_parent\"><img src=\"https://colab.research.google.com/assets/colab-badge.svg\" alt=\"Open In Colab\"/></a>"
      ]
    },
    {
      "cell_type": "code",
      "execution_count": null,
      "metadata": {
        "id": "MUTBdusOVykS"
      },
      "outputs": [],
      "source": [
        "# исходное число записей и последовательность для нумерации\n",
        "N <- 100\n",
        "Nrow <- 1:N"
      ]
    },
    {
      "cell_type": "code",
      "source": [
        "# формирование вектора случайно сгенерированных имен\n",
        "gen_name <- function(x) {\n",
        "  # lists of names examples\n",
        "  name_list <- c(\"Erick\", \"Kenny\", \"Kyle\", \"Stan\", \"Butters\")\n",
        "  surname_list<- c(\"Cartman\", \"McCormick\", \"Broflovski\", \"Marsh\", \"Stotch\")\n",
        "  \n",
        "  names_len <- length(name_list)\n",
        "  \n",
        "  emp_name <- paste(\n",
        "    name_list[sample(1:names_len, 1)], \n",
        "    surname_list[sample(1:names_len, 1)]\n",
        "  )\n",
        "  emp_name\n",
        "}\n",
        "\n",
        "Name <- sapply(Nrow, gen_name)"
      ],
      "metadata": {
        "id": "3YHTQyJEV30G"
      },
      "execution_count": null,
      "outputs": []
    },
    {
      "cell_type": "code",
      "source": [
        "# остальные вектора\n",
        "gen_empl_year <- function(birthday) {\n",
        "  sample((birthday + 18):2000, 1)\n",
        "}\n",
        "\n",
        "BirthYear <- sample(1987:1997, N, replace=T)\n",
        "\n",
        "EmployYear <- sapply(BirthYear, gen_empl_year)\n",
        "\n",
        "Salary <- sample(10000:30000, N, replace=T)"
      ],
      "metadata": {
        "id": "i8Jnuq2QWwJT"
      },
      "execution_count": null,
      "outputs": []
    },
    {
      "cell_type": "code",
      "source": [
        "# собираем датафрейм и выводим его\n",
        "df <- data.frame(\n",
        "  Nrow=Nrow,\n",
        "  Name=Name,\n",
        "  BirthYear=BirthYear,\n",
        "  EmployYear=EmployYear,\n",
        "  Salary=Salary\n",
        ")\n",
        "\n",
        "head(df)"
      ],
      "metadata": {
        "colab": {
          "base_uri": "https://localhost:8080/",
          "height": 286
        },
        "id": "xof5X1TMXZ9c",
        "outputId": "52b4f766-42d5-47de-9867-0c5302b1976b"
      },
      "execution_count": null,
      "outputs": [
        {
          "output_type": "display_data",
          "data": {
            "text/html": [
              "<table class=\"dataframe\">\n",
              "<caption>A data.frame: 6 × 5</caption>\n",
              "<thead>\n",
              "\t<tr><th></th><th scope=col>Nrow</th><th scope=col>Name</th><th scope=col>BirthYear</th><th scope=col>EmployYear</th><th scope=col>Salary</th></tr>\n",
              "\t<tr><th></th><th scope=col>&lt;int&gt;</th><th scope=col>&lt;chr&gt;</th><th scope=col>&lt;int&gt;</th><th scope=col>&lt;int&gt;</th><th scope=col>&lt;int&gt;</th></tr>\n",
              "</thead>\n",
              "<tbody>\n",
              "\t<tr><th scope=row>1</th><td>1</td><td>Butters Cartman </td><td>1988</td><td>2001</td><td>22924</td></tr>\n",
              "\t<tr><th scope=row>2</th><td>2</td><td>Kenny Broflovski</td><td>1989</td><td>2000</td><td>28005</td></tr>\n",
              "\t<tr><th scope=row>3</th><td>3</td><td>Kyle Marsh      </td><td>1992</td><td>2000</td><td>18800</td></tr>\n",
              "\t<tr><th scope=row>4</th><td>4</td><td>Stan Cartman    </td><td>1993</td><td>2007</td><td>10367</td></tr>\n",
              "\t<tr><th scope=row>5</th><td>5</td><td>Kyle Stotch     </td><td>1994</td><td>2012</td><td>24014</td></tr>\n",
              "\t<tr><th scope=row>6</th><td>6</td><td>Erick Broflovski</td><td>1996</td><td>2010</td><td>15529</td></tr>\n",
              "</tbody>\n",
              "</table>\n"
            ],
            "text/markdown": "\nA data.frame: 6 × 5\n\n| <!--/--> | Nrow &lt;int&gt; | Name &lt;chr&gt; | BirthYear &lt;int&gt; | EmployYear &lt;int&gt; | Salary &lt;int&gt; |\n|---|---|---|---|---|---|\n| 1 | 1 | Butters Cartman  | 1988 | 2001 | 22924 |\n| 2 | 2 | Kenny Broflovski | 1989 | 2000 | 28005 |\n| 3 | 3 | Kyle Marsh       | 1992 | 2000 | 18800 |\n| 4 | 4 | Stan Cartman     | 1993 | 2007 | 10367 |\n| 5 | 5 | Kyle Stotch      | 1994 | 2012 | 24014 |\n| 6 | 6 | Erick Broflovski | 1996 | 2010 | 15529 |\n\n",
            "text/latex": "A data.frame: 6 × 5\n\\begin{tabular}{r|lllll}\n  & Nrow & Name & BirthYear & EmployYear & Salary\\\\\n  & <int> & <chr> & <int> & <int> & <int>\\\\\n\\hline\n\t1 & 1 & Butters Cartman  & 1988 & 2001 & 22924\\\\\n\t2 & 2 & Kenny Broflovski & 1989 & 2000 & 28005\\\\\n\t3 & 3 & Kyle Marsh       & 1992 & 2000 & 18800\\\\\n\t4 & 4 & Stan Cartman     & 1993 & 2007 & 10367\\\\\n\t5 & 5 & Kyle Stotch      & 1994 & 2012 & 24014\\\\\n\t6 & 6 & Erick Broflovski & 1996 & 2010 & 15529\\\\\n\\end{tabular}\n",
            "text/plain": [
              "  Nrow Name             BirthYear EmployYear Salary\n",
              "1 1    Butters Cartman  1988      2001       22924 \n",
              "2 2    Kenny Broflovski 1989      2000       28005 \n",
              "3 3    Kyle Marsh       1992      2000       18800 \n",
              "4 4    Stan Cartman     1993      2007       10367 \n",
              "5 5    Kyle Stotch      1994      2012       24014 \n",
              "6 6    Erick Broflovski 1996      2010       15529 "
            ]
          },
          "metadata": {}
        }
      ]
    },
    {
      "cell_type": "code",
      "source": [
        "salary_cmp_count <- nrow(df[df$Salary > 15000,])\n",
        "cat(sprintf(\"Число сотрудников с зарплатой, больше 15000: %i\", salary_cmp_count))"
      ],
      "metadata": {
        "colab": {
          "base_uri": "https://localhost:8080/"
        },
        "id": "qPKps0LtXeXz",
        "outputId": "de9273c7-369d-4c61-e61d-a5e48d73ec78"
      },
      "execution_count": null,
      "outputs": [
        {
          "output_type": "stream",
          "name": "stdout",
          "text": [
            "Число сотрудников с зарплатой, больше 15000: 73"
          ]
        }
      ]
    },
    {
      "cell_type": "code",
      "source": [
        "# расчет суммарного подоходного налога за все время работы в организации\n",
        "currrent_year <- as.numeric(format(Sys.Date(), format=\"%Y\"))\n",
        "df$TotalIncomeTax <- with(df, (currrent_year - EmployYear)*Salary*0.13)\n",
        "\n",
        "# финальный результат\n",
        "head(df)"
      ],
      "metadata": {
        "colab": {
          "base_uri": "https://localhost:8080/",
          "height": 286
        },
        "id": "G5jKPZhjX1EF",
        "outputId": "6bec5320-556a-4cdd-f0ae-acf84acc6680"
      },
      "execution_count": null,
      "outputs": [
        {
          "output_type": "display_data",
          "data": {
            "text/html": [
              "<table class=\"dataframe\">\n",
              "<caption>A data.frame: 6 × 6</caption>\n",
              "<thead>\n",
              "\t<tr><th></th><th scope=col>Nrow</th><th scope=col>Name</th><th scope=col>BirthYear</th><th scope=col>EmployYear</th><th scope=col>Salary</th><th scope=col>TotalIncomeTax</th></tr>\n",
              "\t<tr><th></th><th scope=col>&lt;int&gt;</th><th scope=col>&lt;chr&gt;</th><th scope=col>&lt;int&gt;</th><th scope=col>&lt;int&gt;</th><th scope=col>&lt;int&gt;</th><th scope=col>&lt;dbl&gt;</th></tr>\n",
              "</thead>\n",
              "<tbody>\n",
              "\t<tr><th scope=row>1</th><td>1</td><td>Butters Cartman </td><td>1988</td><td>2001</td><td>22924</td><td>62582.52</td></tr>\n",
              "\t<tr><th scope=row>2</th><td>2</td><td>Kenny Broflovski</td><td>1989</td><td>2000</td><td>28005</td><td>80094.30</td></tr>\n",
              "\t<tr><th scope=row>3</th><td>3</td><td>Kyle Marsh      </td><td>1992</td><td>2000</td><td>18800</td><td>53768.00</td></tr>\n",
              "\t<tr><th scope=row>4</th><td>4</td><td>Stan Cartman    </td><td>1993</td><td>2007</td><td>10367</td><td>20215.65</td></tr>\n",
              "\t<tr><th scope=row>5</th><td>5</td><td>Kyle Stotch     </td><td>1994</td><td>2012</td><td>24014</td><td>31218.20</td></tr>\n",
              "\t<tr><th scope=row>6</th><td>6</td><td>Erick Broflovski</td><td>1996</td><td>2010</td><td>15529</td><td>24225.24</td></tr>\n",
              "</tbody>\n",
              "</table>\n"
            ],
            "text/markdown": "\nA data.frame: 6 × 6\n\n| <!--/--> | Nrow &lt;int&gt; | Name &lt;chr&gt; | BirthYear &lt;int&gt; | EmployYear &lt;int&gt; | Salary &lt;int&gt; | TotalIncomeTax &lt;dbl&gt; |\n|---|---|---|---|---|---|---|\n| 1 | 1 | Butters Cartman  | 1988 | 2001 | 22924 | 62582.52 |\n| 2 | 2 | Kenny Broflovski | 1989 | 2000 | 28005 | 80094.30 |\n| 3 | 3 | Kyle Marsh       | 1992 | 2000 | 18800 | 53768.00 |\n| 4 | 4 | Stan Cartman     | 1993 | 2007 | 10367 | 20215.65 |\n| 5 | 5 | Kyle Stotch      | 1994 | 2012 | 24014 | 31218.20 |\n| 6 | 6 | Erick Broflovski | 1996 | 2010 | 15529 | 24225.24 |\n\n",
            "text/latex": "A data.frame: 6 × 6\n\\begin{tabular}{r|llllll}\n  & Nrow & Name & BirthYear & EmployYear & Salary & TotalIncomeTax\\\\\n  & <int> & <chr> & <int> & <int> & <int> & <dbl>\\\\\n\\hline\n\t1 & 1 & Butters Cartman  & 1988 & 2001 & 22924 & 62582.52\\\\\n\t2 & 2 & Kenny Broflovski & 1989 & 2000 & 28005 & 80094.30\\\\\n\t3 & 3 & Kyle Marsh       & 1992 & 2000 & 18800 & 53768.00\\\\\n\t4 & 4 & Stan Cartman     & 1993 & 2007 & 10367 & 20215.65\\\\\n\t5 & 5 & Kyle Stotch      & 1994 & 2012 & 24014 & 31218.20\\\\\n\t6 & 6 & Erick Broflovski & 1996 & 2010 & 15529 & 24225.24\\\\\n\\end{tabular}\n",
            "text/plain": [
              "  Nrow Name             BirthYear EmployYear Salary TotalIncomeTax\n",
              "1 1    Butters Cartman  1988      2001       22924  62582.52      \n",
              "2 2    Kenny Broflovski 1989      2000       28005  80094.30      \n",
              "3 3    Kyle Marsh       1992      2000       18800  53768.00      \n",
              "4 4    Stan Cartman     1993      2007       10367  20215.65      \n",
              "5 5    Kyle Stotch      1994      2012       24014  31218.20      \n",
              "6 6    Erick Broflovski 1996      2010       15529  24225.24      "
            ]
          },
          "metadata": {}
        }
      ]
    }
  ]
}