{
  "nbformat": 4,
  "nbformat_minor": 0,
  "metadata": {
    "colab": {
      "provenance": [],
      "authorship_tag": "ABX9TyOhGDx5SQ7X8ko3Ip5edg/V",
      "include_colab_link": true
    },
    "kernelspec": {
      "name": "ir",
      "display_name": "R"
    },
    "language_info": {
      "name": "R"
    }
  },
  "cells": [
    {
      "cell_type": "markdown",
      "metadata": {
        "id": "view-in-github",
        "colab_type": "text"
      },
      "source": [
        "<a href=\"https://colab.research.google.com/github/nikitosik258/collab/blob/main/sii_3.ipynb\" target=\"_parent\"><img src=\"https://colab.research.google.com/assets/colab-badge.svg\" alt=\"Open In Colab\"/></a>"
      ]
    },
    {
      "cell_type": "code",
      "execution_count": 1,
      "metadata": {
        "id": "OPXmZxLVKsg0"
      },
      "outputs": [],
      "source": [
        "library(ggplot2)\n",
        "library(tidyr)\n",
        "library(RColorBrewer)"
      ]
    },
    {
      "cell_type": "code",
      "source": [
        "# скачиваем датасет с локального хранилища (положить себе на гугл-диск и расшарить) \n",
        "# https://drive.google.com/drive/u/0/folders/1ngvxitbeCf5912JV7xH9n6MwKozT8A4X\n",
        "system(\"gdown --id 1Q_okoKkyBZZe8oWMKPDXK26la_lbCTP2\")\n",
        "system(\"ls\", TRUE)\n",
        "\n",
        "dataset = read.csv(\"ufc_master_data.csv\")"
      ],
      "metadata": {
        "colab": {
          "base_uri": "https://localhost:8080/",
          "height": 34
        },
        "id": "qp_ZAajNLO3Q",
        "outputId": "48a977f0-ea5c-425f-c052-d09b429d6df9"
      },
      "execution_count": 4,
      "outputs": [
        {
          "output_type": "display_data",
          "data": {
            "text/html": [
              "<style>\n",
              ".list-inline {list-style: none; margin:0; padding: 0}\n",
              ".list-inline>li {display: inline-block}\n",
              ".list-inline>li:not(:last-child)::after {content: \"\\00b7\"; padding: 0 .5ex}\n",
              "</style>\n",
              "<ol class=list-inline><li>'custumer_dataset_1.csv'</li><li>'sample_data'</li><li>'ufc_master_data.csv'</li></ol>\n"
            ],
            "text/markdown": "1. 'custumer_dataset_1.csv'\n2. 'sample_data'\n3. 'ufc_master_data.csv'\n\n\n",
            "text/latex": "\\begin{enumerate*}\n\\item 'custumer\\_dataset\\_1.csv'\n\\item 'sample\\_data'\n\\item 'ufc\\_master\\_data.csv'\n\\end{enumerate*}\n",
            "text/plain": [
              "[1] \"custumer_dataset_1.csv\" \"sample_data\"            \"ufc_master_data.csv\"   "
            ]
          },
          "metadata": {}
        }
      ]
    },
    {
      "cell_type": "code",
      "source": [
        "# смотрим на данные\n",
        "str(dataset)\n",
        "head(dataset)\n",
        "any(is.na(dataset))\n",
        "summary(dataset)"
      ],
      "metadata": {
        "colab": {
          "base_uri": "https://localhost:8080/",
          "height": 1000
        },
        "id": "aTbngpaILzhK",
        "outputId": "d29ca838-97e5-4677-bdb5-6e3248f00a9f"
      },
      "execution_count": 5,
      "outputs": [
        {
          "output_type": "stream",
          "name": "stdout",
          "text": [
            "'data.frame':\t617 obs. of  14 variables:\n",
            " $ ranking        : chr  \"C\" \"1\" \"2\" \"3\" ...\n",
            " $ name           : chr  \"Brandon Moreno\" \"Deiveson Figueiredo\" \"Askar Askarov\" \"Alexandre Pantoja\" ...\n",
            " $ age            : int  27 33 29 31 29 29 28 29 28 31 ...\n",
            " $ weight         : int  125 125 125 125 125 125 125 125 125 125 ...\n",
            " $ gender         : chr  \"Male\" \"Male\" \"Male\" \"Male\" ...\n",
            " $ height         : int  67 65 65 65 64 67 65 65 66 68 ...\n",
            " $ ufc_wins       : int  8 9 3 8 6 2 5 3 5 5 ...\n",
            " $ ufc_loses      : int  2 2 0 3 2 2 2 2 1 4 ...\n",
            " $ ufc_draws      : int  2 1 1 NA NA NA NA NA NA NA ...\n",
            " $ ufc_no_contests: int  NA NA NA NA NA NA NA NA NA NA ...\n",
            " $ mma_wins       : int  19 20 14 24 24 12 22 17 17 15 ...\n",
            " $ mma_loses      : int  5 2 0 5 6 6 9 3 2 6 ...\n",
            " $ mma_draws      : int  2 1 1 NA NA NA NA NA 1 NA ...\n",
            " $ mma_no_contests: int  NA NA NA NA NA NA 1 1 NA NA ...\n"
          ]
        },
        {
          "output_type": "display_data",
          "data": {
            "text/html": [
              "<table class=\"dataframe\">\n",
              "<caption>A data.frame: 6 × 14</caption>\n",
              "<thead>\n",
              "\t<tr><th></th><th scope=col>ranking</th><th scope=col>name</th><th scope=col>age</th><th scope=col>weight</th><th scope=col>gender</th><th scope=col>height</th><th scope=col>ufc_wins</th><th scope=col>ufc_loses</th><th scope=col>ufc_draws</th><th scope=col>ufc_no_contests</th><th scope=col>mma_wins</th><th scope=col>mma_loses</th><th scope=col>mma_draws</th><th scope=col>mma_no_contests</th></tr>\n",
              "\t<tr><th></th><th scope=col>&lt;chr&gt;</th><th scope=col>&lt;chr&gt;</th><th scope=col>&lt;int&gt;</th><th scope=col>&lt;int&gt;</th><th scope=col>&lt;chr&gt;</th><th scope=col>&lt;int&gt;</th><th scope=col>&lt;int&gt;</th><th scope=col>&lt;int&gt;</th><th scope=col>&lt;int&gt;</th><th scope=col>&lt;int&gt;</th><th scope=col>&lt;int&gt;</th><th scope=col>&lt;int&gt;</th><th scope=col>&lt;int&gt;</th><th scope=col>&lt;int&gt;</th></tr>\n",
              "</thead>\n",
              "<tbody>\n",
              "\t<tr><th scope=row>1</th><td>C</td><td>Brandon Moreno     </td><td>27</td><td>125</td><td>Male</td><td>67</td><td>8</td><td>2</td><td> 2</td><td>NA</td><td>19</td><td>5</td><td> 2</td><td>NA</td></tr>\n",
              "\t<tr><th scope=row>2</th><td>1</td><td>Deiveson Figueiredo</td><td>33</td><td>125</td><td>Male</td><td>65</td><td>9</td><td>2</td><td> 1</td><td>NA</td><td>20</td><td>2</td><td> 1</td><td>NA</td></tr>\n",
              "\t<tr><th scope=row>3</th><td>2</td><td>Askar Askarov      </td><td>29</td><td>125</td><td>Male</td><td>65</td><td>3</td><td>0</td><td> 1</td><td>NA</td><td>14</td><td>0</td><td> 1</td><td>NA</td></tr>\n",
              "\t<tr><th scope=row>4</th><td>3</td><td>Alexandre Pantoja  </td><td>31</td><td>125</td><td>Male</td><td>65</td><td>8</td><td>3</td><td>NA</td><td>NA</td><td>24</td><td>5</td><td>NA</td><td>NA</td></tr>\n",
              "\t<tr><th scope=row>5</th><td>4</td><td>Alex Perez         </td><td>29</td><td>125</td><td>Male</td><td>64</td><td>6</td><td>2</td><td>NA</td><td>NA</td><td>24</td><td>6</td><td>NA</td><td>NA</td></tr>\n",
              "\t<tr><th scope=row>6</th><td>5</td><td>Brandon Royval     </td><td>29</td><td>125</td><td>Male</td><td>67</td><td>2</td><td>2</td><td>NA</td><td>NA</td><td>12</td><td>6</td><td>NA</td><td>NA</td></tr>\n",
              "</tbody>\n",
              "</table>\n"
            ],
            "text/markdown": "\nA data.frame: 6 × 14\n\n| <!--/--> | ranking &lt;chr&gt; | name &lt;chr&gt; | age &lt;int&gt; | weight &lt;int&gt; | gender &lt;chr&gt; | height &lt;int&gt; | ufc_wins &lt;int&gt; | ufc_loses &lt;int&gt; | ufc_draws &lt;int&gt; | ufc_no_contests &lt;int&gt; | mma_wins &lt;int&gt; | mma_loses &lt;int&gt; | mma_draws &lt;int&gt; | mma_no_contests &lt;int&gt; |\n|---|---|---|---|---|---|---|---|---|---|---|---|---|---|---|\n| 1 | C | Brandon Moreno      | 27 | 125 | Male | 67 | 8 | 2 |  2 | NA | 19 | 5 |  2 | NA |\n| 2 | 1 | Deiveson Figueiredo | 33 | 125 | Male | 65 | 9 | 2 |  1 | NA | 20 | 2 |  1 | NA |\n| 3 | 2 | Askar Askarov       | 29 | 125 | Male | 65 | 3 | 0 |  1 | NA | 14 | 0 |  1 | NA |\n| 4 | 3 | Alexandre Pantoja   | 31 | 125 | Male | 65 | 8 | 3 | NA | NA | 24 | 5 | NA | NA |\n| 5 | 4 | Alex Perez          | 29 | 125 | Male | 64 | 6 | 2 | NA | NA | 24 | 6 | NA | NA |\n| 6 | 5 | Brandon Royval      | 29 | 125 | Male | 67 | 2 | 2 | NA | NA | 12 | 6 | NA | NA |\n\n",
            "text/latex": "A data.frame: 6 × 14\n\\begin{tabular}{r|llllllllllllll}\n  & ranking & name & age & weight & gender & height & ufc\\_wins & ufc\\_loses & ufc\\_draws & ufc\\_no\\_contests & mma\\_wins & mma\\_loses & mma\\_draws & mma\\_no\\_contests\\\\\n  & <chr> & <chr> & <int> & <int> & <chr> & <int> & <int> & <int> & <int> & <int> & <int> & <int> & <int> & <int>\\\\\n\\hline\n\t1 & C & Brandon Moreno      & 27 & 125 & Male & 67 & 8 & 2 &  2 & NA & 19 & 5 &  2 & NA\\\\\n\t2 & 1 & Deiveson Figueiredo & 33 & 125 & Male & 65 & 9 & 2 &  1 & NA & 20 & 2 &  1 & NA\\\\\n\t3 & 2 & Askar Askarov       & 29 & 125 & Male & 65 & 3 & 0 &  1 & NA & 14 & 0 &  1 & NA\\\\\n\t4 & 3 & Alexandre Pantoja   & 31 & 125 & Male & 65 & 8 & 3 & NA & NA & 24 & 5 & NA & NA\\\\\n\t5 & 4 & Alex Perez          & 29 & 125 & Male & 64 & 6 & 2 & NA & NA & 24 & 6 & NA & NA\\\\\n\t6 & 5 & Brandon Royval      & 29 & 125 & Male & 67 & 2 & 2 & NA & NA & 12 & 6 & NA & NA\\\\\n\\end{tabular}\n",
            "text/plain": [
              "  ranking name                age weight gender height ufc_wins ufc_loses\n",
              "1 C       Brandon Moreno      27  125    Male   67     8        2        \n",
              "2 1       Deiveson Figueiredo 33  125    Male   65     9        2        \n",
              "3 2       Askar Askarov       29  125    Male   65     3        0        \n",
              "4 3       Alexandre Pantoja   31  125    Male   65     8        3        \n",
              "5 4       Alex Perez          29  125    Male   64     6        2        \n",
              "6 5       Brandon Royval      29  125    Male   67     2        2        \n",
              "  ufc_draws ufc_no_contests mma_wins mma_loses mma_draws mma_no_contests\n",
              "1  2        NA              19       5          2        NA             \n",
              "2  1        NA              20       2          1        NA             \n",
              "3  1        NA              14       0          1        NA             \n",
              "4 NA        NA              24       5         NA        NA             \n",
              "5 NA        NA              24       6         NA        NA             \n",
              "6 NA        NA              12       6         NA        NA             "
            ]
          },
          "metadata": {}
        },
        {
          "output_type": "display_data",
          "data": {
            "text/html": [
              "TRUE"
            ],
            "text/markdown": "TRUE",
            "text/latex": "TRUE",
            "text/plain": [
              "[1] TRUE"
            ]
          },
          "metadata": {}
        },
        {
          "output_type": "display_data",
          "data": {
            "text/plain": [
              "   ranking              name                age            weight     \n",
              " Length:617         Length:617         Min.   :21.00   Min.   :115.0  \n",
              " Class :character   Class :character   1st Qu.:28.00   1st Qu.:135.0  \n",
              " Mode  :character   Mode  :character   Median :31.00   Median :145.0  \n",
              "                                       Mean   :31.13   Mean   :159.7  \n",
              "                                       3rd Qu.:34.00   3rd Qu.:170.0  \n",
              "                                       Max.   :44.00   Max.   :265.0  \n",
              "                                                                      \n",
              "    gender              height         ufc_wins        ufc_loses     \n",
              " Length:617         Min.   :59.00   Min.   : 0.000   Min.   : 0.000  \n",
              " Class :character   1st Qu.:67.00   1st Qu.: 1.000   1st Qu.: 1.000  \n",
              " Mode  :character   Median :69.00   Median : 3.000   Median : 2.000  \n",
              "                    Mean   :69.53   Mean   : 4.686   Mean   : 2.901  \n",
              "                    3rd Qu.:72.00   3rd Qu.: 6.000   3rd Qu.: 4.000  \n",
              "                    Max.   :79.00   Max.   :29.000   Max.   :18.000  \n",
              "                                                                     \n",
              "   ufc_draws   ufc_no_contests    mma_wins       mma_loses        mma_draws    \n",
              " Min.   :0     Min.   :1.000   Min.   : 1.00   Min.   : 0.000   Min.   :0.000  \n",
              " 1st Qu.:1     1st Qu.:1.000   1st Qu.:10.00   1st Qu.: 2.000   1st Qu.:1.000  \n",
              " Median :1     Median :1.000   Median :14.00   Median : 4.000   Median :1.000  \n",
              " Mean   :1     Mean   :1.046   Mean   :14.63   Mean   : 4.631   Mean   :1.098  \n",
              " 3rd Qu.:1     3rd Qu.:1.000   3rd Qu.:18.00   3rd Qu.: 6.000   3rd Qu.:1.000  \n",
              " Max.   :2     Max.   :2.000   Max.   :59.00   Max.   :21.000   Max.   :2.000  \n",
              " NA's   :573   NA's   :574     NA's   :2       NA's   :2        NA's   :535    \n",
              " mma_no_contests\n",
              " Min.   :1.000  \n",
              " 1st Qu.:1.000  \n",
              " Median :1.000  \n",
              " Mean   :1.088  \n",
              " 3rd Qu.:1.000  \n",
              " Max.   :2.000  \n",
              " NA's   :549    "
            ]
          },
          "metadata": {}
        }
      ]
    },
    {
      "cell_type": "code",
      "source": [
        "hist(dataset$mma_wins)"
      ],
      "metadata": {
        "colab": {
          "base_uri": "https://localhost:8080/",
          "height": 437
        },
        "id": "3vqm1f1pMM9w",
        "outputId": "e2b58425-ca0e-4329-bb3c-e82070e43d35"
      },
      "execution_count": 7,
      "outputs": [
        {
          "output_type": "display_data",
          "data": {
            "text/plain": [
              "Plot with title “Histogram of dataset$mma_wins”"
            ],
            "image/png": "[encoded data removed]"
          },
          "metadata": {
            "image/png": {
              "width": 420,
              "height": 420
            }
          }
        }
      ]
    },
    {
      "cell_type": "code",
      "source": [
        "# предобработка: уберем пропуски в данных; удалим нецелевые признаки; \n",
        "df0 = data.frame(dataset)\n",
        "df0 <- na.omit(df0)\n",
        "\n",
        "df = subset(df0, select = -c(name, gender, ranking))\n",
        "\n",
        "any(is.na(df))\n",
        "nrow(df)"
      ],
      "metadata": {
        "colab": {
          "base_uri": "https://localhost:8080/",
          "height": 52
        },
        "id": "BbCc6ETUMudx",
        "outputId": "98e5caa6-f0e7-4cc4-c621-0cf200ecd5d4"
      },
      "execution_count": 10,
      "outputs": [
        {
          "output_type": "display_data",
          "data": {
            "text/html": [
              "FALSE"
            ],
            "text/markdown": "FALSE",
            "text/latex": "FALSE",
            "text/plain": [
              "[1] FALSE"
            ]
          },
          "metadata": {}
        },
        {
          "output_type": "display_data",
          "data": {
            "text/html": [
              "6"
            ],
            "text/markdown": "6",
            "text/latex": "6",
            "text/plain": [
              "[1] 6"
            ]
          },
          "metadata": {}
        }
      ]
    },
    {
      "cell_type": "code",
      "source": [
        "# нормализуем данные\n",
        "df_scaled <- data.frame(scale(df))\n",
        "\n",
        "head(df_scaled)\n",
        "nrow(df_scaled)"
      ],
      "metadata": {
        "colab": {
          "base_uri": "https://localhost:8080/",
          "height": 304
        },
        "id": "sQ17jEh0NHqj",
        "outputId": "7531f19f-8bf0-41f7-fcd9-ebe34c38609e"
      },
      "execution_count": 11,
      "outputs": [
        {
          "output_type": "display_data",
          "data": {
            "text/html": [
              "<table class=\"dataframe\">\n",
              "<caption>A data.frame: 6 × 11</caption>\n",
              "<thead>\n",
              "\t<tr><th></th><th scope=col>age</th><th scope=col>weight</th><th scope=col>height</th><th scope=col>ufc_wins</th><th scope=col>ufc_loses</th><th scope=col>ufc_draws</th><th scope=col>ufc_no_contests</th><th scope=col>mma_wins</th><th scope=col>mma_loses</th><th scope=col>mma_draws</th><th scope=col>mma_no_contests</th></tr>\n",
              "\t<tr><th></th><th scope=col>&lt;dbl&gt;</th><th scope=col>&lt;dbl&gt;</th><th scope=col>&lt;dbl&gt;</th><th scope=col>&lt;dbl&gt;</th><th scope=col>&lt;dbl&gt;</th><th scope=col>&lt;dbl&gt;</th><th scope=col>&lt;dbl&gt;</th><th scope=col>&lt;dbl&gt;</th><th scope=col>&lt;dbl&gt;</th><th scope=col>&lt;dbl&gt;</th><th scope=col>&lt;dbl&gt;</th></tr>\n",
              "</thead>\n",
              "<tbody>\n",
              "\t<tr><th scope=row>93</th><td>-1.0687334</td><td> 0.9644856</td><td> 1.0020060</td><td>-0.1680849</td><td>-0.1559154</td><td>-1.2909944</td><td>-0.4082483</td><td>-0.1141089</td><td> 0.1570186</td><td>-1.2909944</td><td>-0.4082483</td></tr>\n",
              "\t<tr><th scope=row>260</th><td>-1.2977477</td><td> 0.9644856</td><td> 1.0020060</td><td>-0.8098638</td><td>-0.7172108</td><td>-1.2909944</td><td>-0.4082483</td><td>-1.3693064</td><td>-0.9735152</td><td>-1.2909944</td><td>-0.4082483</td></tr>\n",
              "\t<tr><th scope=row>284</th><td> 0.9923953</td><td> 0.2411214</td><td> 0.1002006</td><td> 1.7572516</td><td> 1.9021677</td><td> 0.6454972</td><td>-0.4082483</td><td> 1.5975241</td><td> 1.6643969</td><td> 0.6454972</td><td>-0.4082483</td></tr>\n",
              "\t<tr><th scope=row>300</th><td> 0.7633810</td><td> 0.2411214</td><td>-0.2004012</td><td>-0.6264984</td><td>-0.5301123</td><td> 0.6454972</td><td> 2.0412415</td><td>-0.3423266</td><td>-0.5966706</td><td> 0.6454972</td><td> 2.0412415</td></tr>\n",
              "\t<tr><th scope=row>412</th><td>-0.1526762</td><td>-0.9644856</td><td>-0.2004012</td><td>-0.7181811</td><td>-0.7172108</td><td> 0.6454972</td><td>-0.4082483</td><td>-0.3423266</td><td>-0.7850929</td><td> 0.6454972</td><td>-0.4082483</td></tr>\n",
              "\t<tr><th scope=row>471</th><td> 0.7633810</td><td>-1.4467285</td><td>-1.7034102</td><td> 0.5653766</td><td> 0.2182815</td><td> 0.6454972</td><td>-0.4082483</td><td> 0.5705443</td><td> 0.5338631</td><td> 0.6454972</td><td>-0.4082483</td></tr>\n",
              "</tbody>\n",
              "</table>\n"
            ],
            "text/markdown": "\nA data.frame: 6 × 11\n\n| <!--/--> | age &lt;dbl&gt; | weight &lt;dbl&gt; | height &lt;dbl&gt; | ufc_wins &lt;dbl&gt; | ufc_loses &lt;dbl&gt; | ufc_draws &lt;dbl&gt; | ufc_no_contests &lt;dbl&gt; | mma_wins &lt;dbl&gt; | mma_loses &lt;dbl&gt; | mma_draws &lt;dbl&gt; | mma_no_contests &lt;dbl&gt; |\n|---|---|---|---|---|---|---|---|---|---|---|---|\n| 93 | -1.0687334 |  0.9644856 |  1.0020060 | -0.1680849 | -0.1559154 | -1.2909944 | -0.4082483 | -0.1141089 |  0.1570186 | -1.2909944 | -0.4082483 |\n| 260 | -1.2977477 |  0.9644856 |  1.0020060 | -0.8098638 | -0.7172108 | -1.2909944 | -0.4082483 | -1.3693064 | -0.9735152 | -1.2909944 | -0.4082483 |\n| 284 |  0.9923953 |  0.2411214 |  0.1002006 |  1.7572516 |  1.9021677 |  0.6454972 | -0.4082483 |  1.5975241 |  1.6643969 |  0.6454972 | -0.4082483 |\n| 300 |  0.7633810 |  0.2411214 | -0.2004012 | -0.6264984 | -0.5301123 |  0.6454972 |  2.0412415 | -0.3423266 | -0.5966706 |  0.6454972 |  2.0412415 |\n| 412 | -0.1526762 | -0.9644856 | -0.2004012 | -0.7181811 | -0.7172108 |  0.6454972 | -0.4082483 | -0.3423266 | -0.7850929 |  0.6454972 | -0.4082483 |\n| 471 |  0.7633810 | -1.4467285 | -1.7034102 |  0.5653766 |  0.2182815 |  0.6454972 | -0.4082483 |  0.5705443 |  0.5338631 |  0.6454972 | -0.4082483 |\n\n",
            "text/latex": "A data.frame: 6 × 11\n\\begin{tabular}{r|lllllllllll}\n  & age & weight & height & ufc\\_wins & ufc\\_loses & ufc\\_draws & ufc\\_no\\_contests & mma\\_wins & mma\\_loses & mma\\_draws & mma\\_no\\_contests\\\\\n  & <dbl> & <dbl> & <dbl> & <dbl> & <dbl> & <dbl> & <dbl> & <dbl> & <dbl> & <dbl> & <dbl>\\\\\n\\hline\n\t93 & -1.0687334 &  0.9644856 &  1.0020060 & -0.1680849 & -0.1559154 & -1.2909944 & -0.4082483 & -0.1141089 &  0.1570186 & -1.2909944 & -0.4082483\\\\\n\t260 & -1.2977477 &  0.9644856 &  1.0020060 & -0.8098638 & -0.7172108 & -1.2909944 & -0.4082483 & -1.3693064 & -0.9735152 & -1.2909944 & -0.4082483\\\\\n\t284 &  0.9923953 &  0.2411214 &  0.1002006 &  1.7572516 &  1.9021677 &  0.6454972 & -0.4082483 &  1.5975241 &  1.6643969 &  0.6454972 & -0.4082483\\\\\n\t300 &  0.7633810 &  0.2411214 & -0.2004012 & -0.6264984 & -0.5301123 &  0.6454972 &  2.0412415 & -0.3423266 & -0.5966706 &  0.6454972 &  2.0412415\\\\\n\t412 & -0.1526762 & -0.9644856 & -0.2004012 & -0.7181811 & -0.7172108 &  0.6454972 & -0.4082483 & -0.3423266 & -0.7850929 &  0.6454972 & -0.4082483\\\\\n\t471 &  0.7633810 & -1.4467285 & -1.7034102 &  0.5653766 &  0.2182815 &  0.6454972 & -0.4082483 &  0.5705443 &  0.5338631 &  0.6454972 & -0.4082483\\\\\n\\end{tabular}\n",
            "text/plain": [
              "    age        weight     height     ufc_wins   ufc_loses  ufc_draws \n",
              "93  -1.0687334  0.9644856  1.0020060 -0.1680849 -0.1559154 -1.2909944\n",
              "260 -1.2977477  0.9644856  1.0020060 -0.8098638 -0.7172108 -1.2909944\n",
              "284  0.9923953  0.2411214  0.1002006  1.7572516  1.9021677  0.6454972\n",
              "300  0.7633810  0.2411214 -0.2004012 -0.6264984 -0.5301123  0.6454972\n",
              "412 -0.1526762 -0.9644856 -0.2004012 -0.7181811 -0.7172108  0.6454972\n",
              "471  0.7633810 -1.4467285 -1.7034102  0.5653766  0.2182815  0.6454972\n",
              "    ufc_no_contests mma_wins   mma_loses  mma_draws  mma_no_contests\n",
              "93  -0.4082483      -0.1141089  0.1570186 -1.2909944 -0.4082483     \n",
              "260 -0.4082483      -1.3693064 -0.9735152 -1.2909944 -0.4082483     \n",
              "284 -0.4082483       1.5975241  1.6643969  0.6454972 -0.4082483     \n",
              "300  2.0412415      -0.3423266 -0.5966706  0.6454972  2.0412415     \n",
              "412 -0.4082483      -0.3423266 -0.7850929  0.6454972 -0.4082483     \n",
              "471 -0.4082483       0.5705443  0.5338631  0.6454972 -0.4082483     "
            ]
          },
          "metadata": {}
        },
        {
          "output_type": "display_data",
          "data": {
            "text/html": [
              "6"
            ],
            "text/markdown": "6",
            "text/latex": "6",
            "text/plain": [
              "[1] 6"
            ]
          },
          "metadata": {}
        }
      ]
    },
    {
      "cell_type": "code",
      "source": [
        "set.seed(42)\n",
        "\n",
        "# функция запускает алгоритм k-mean и сохраняет сумму квадратов расстояния в кластерах\n",
        "kmean_withinss <- function(dataset, k) {\n",
        "    cluster <- kmeans(dataset, k)\n",
        "    return (cluster$tot.withinss)\n",
        "}\n",
        "\n",
        "# Set maximum cluster \n",
        "max_k <- 5\n",
        "# Run algorithm over a range of k \n",
        "wss <- sapply(2:max_k, kmean_withinss, dataset = df_scaled)\n",
        "\n",
        "# Create a data frame to plot the graph\n",
        "elbow <-data.frame(2:max_k, wss)\n",
        "\n",
        "# Plot the graph with gglop\n",
        "ggplot(elbow, aes(x = X2.max_k, y = wss)) +\n",
        "    geom_point() +\n",
        "    geom_line() +\n",
        "    scale_x_continuous(breaks = seq(1, max_k, by = 1))"
      ],
      "metadata": {
        "colab": {
          "base_uri": "https://localhost:8080/",
          "height": 437
        },
        "id": "FsVmshOVOG7o",
        "outputId": "1790e78a-4bed-45e9-d558-a90e55a6f5ad"
      },
      "execution_count": 15,
      "outputs": [
        {
          "output_type": "display_data",
          "data": {
            "text/plain": [
              "plot without title"
            ],
            "image/png": "[encoded data removed]"
          },
          "metadata": {
            "image/png": {
              "width": 420,
              "height": 420
            }
          }
        }
      ]
    },
    {
      "cell_type": "code",
      "source": [
        "optimal_k <- 3\n",
        "\n",
        "# create clustering model\n",
        "clust <- kmeans(df_scaled, optimal_k)"
      ],
      "metadata": {
        "id": "E1h3IfUsPmiM"
      },
      "execution_count": 16,
      "outputs": []
    },
    {
      "cell_type": "code",
      "source": [
        "# информация о кластерах\n",
        "# clust$cluster\n",
        "clust$centers\n",
        "clust$size"
      ],
      "metadata": {
        "colab": {
          "base_uri": "https://localhost:8080/",
          "height": 178
        },
        "id": "b8zDPoPhPq5y",
        "outputId": "a85eed18-c348-4c00-8905-d5add68f7848"
      },
      "execution_count": 17,
      "outputs": [
        {
          "output_type": "display_data",
          "data": {
            "text/html": [
              "<table class=\"dataframe\">\n",
              "<caption>A matrix: 3 × 11 of type dbl</caption>\n",
              "<thead>\n",
              "\t<tr><th></th><th scope=col>age</th><th scope=col>weight</th><th scope=col>height</th><th scope=col>ufc_wins</th><th scope=col>ufc_loses</th><th scope=col>ufc_draws</th><th scope=col>ufc_no_contests</th><th scope=col>mma_wins</th><th scope=col>mma_loses</th><th scope=col>mma_draws</th><th scope=col>mma_no_contests</th></tr>\n",
              "</thead>\n",
              "<tbody>\n",
              "\t<tr><th scope=row>1</th><td>-1.1832406</td><td> 0.9644856</td><td> 1.0020060</td><td>-0.4889744</td><td>-0.4365631</td><td>-1.2909944</td><td>-0.4082483</td><td>-0.7417076</td><td>-0.4082483</td><td>-1.2909944</td><td>-0.4082483</td></tr>\n",
              "\t<tr><th scope=row>2</th><td> 0.3053524</td><td>-0.3616821</td><td>-0.2004012</td><td>-0.6723397</td><td>-0.6236615</td><td> 0.6454972</td><td> 0.8164966</td><td>-0.3423266</td><td>-0.6908817</td><td> 0.6454972</td><td> 0.8164966</td></tr>\n",
              "\t<tr><th scope=row>3</th><td> 0.8778882</td><td>-0.6028035</td><td>-0.8016048</td><td> 1.1613141</td><td> 1.0602246</td><td> 0.6454972</td><td>-0.4082483</td><td> 1.0840342</td><td> 1.0991300</td><td> 0.6454972</td><td>-0.4082483</td></tr>\n",
              "</tbody>\n",
              "</table>\n"
            ],
            "text/markdown": "\nA matrix: 3 × 11 of type dbl\n\n| <!--/--> | age | weight | height | ufc_wins | ufc_loses | ufc_draws | ufc_no_contests | mma_wins | mma_loses | mma_draws | mma_no_contests |\n|---|---|---|---|---|---|---|---|---|---|---|---|\n| 1 | -1.1832406 |  0.9644856 |  1.0020060 | -0.4889744 | -0.4365631 | -1.2909944 | -0.4082483 | -0.7417076 | -0.4082483 | -1.2909944 | -0.4082483 |\n| 2 |  0.3053524 | -0.3616821 | -0.2004012 | -0.6723397 | -0.6236615 |  0.6454972 |  0.8164966 | -0.3423266 | -0.6908817 |  0.6454972 |  0.8164966 |\n| 3 |  0.8778882 | -0.6028035 | -0.8016048 |  1.1613141 |  1.0602246 |  0.6454972 | -0.4082483 |  1.0840342 |  1.0991300 |  0.6454972 | -0.4082483 |\n\n",
            "text/latex": "A matrix: 3 × 11 of type dbl\n\\begin{tabular}{r|lllllllllll}\n  & age & weight & height & ufc\\_wins & ufc\\_loses & ufc\\_draws & ufc\\_no\\_contests & mma\\_wins & mma\\_loses & mma\\_draws & mma\\_no\\_contests\\\\\n\\hline\n\t1 & -1.1832406 &  0.9644856 &  1.0020060 & -0.4889744 & -0.4365631 & -1.2909944 & -0.4082483 & -0.7417076 & -0.4082483 & -1.2909944 & -0.4082483\\\\\n\t2 &  0.3053524 & -0.3616821 & -0.2004012 & -0.6723397 & -0.6236615 &  0.6454972 &  0.8164966 & -0.3423266 & -0.6908817 &  0.6454972 &  0.8164966\\\\\n\t3 &  0.8778882 & -0.6028035 & -0.8016048 &  1.1613141 &  1.0602246 &  0.6454972 & -0.4082483 &  1.0840342 &  1.0991300 &  0.6454972 & -0.4082483\\\\\n\\end{tabular}\n",
            "text/plain": [
              "  age        weight     height     ufc_wins   ufc_loses  ufc_draws \n",
              "1 -1.1832406  0.9644856  1.0020060 -0.4889744 -0.4365631 -1.2909944\n",
              "2  0.3053524 -0.3616821 -0.2004012 -0.6723397 -0.6236615  0.6454972\n",
              "3  0.8778882 -0.6028035 -0.8016048  1.1613141  1.0602246  0.6454972\n",
              "  ufc_no_contests mma_wins   mma_loses  mma_draws  mma_no_contests\n",
              "1 -0.4082483      -0.7417076 -0.4082483 -1.2909944 -0.4082483     \n",
              "2  0.8164966      -0.3423266 -0.6908817  0.6454972  0.8164966     \n",
              "3 -0.4082483       1.0840342  1.0991300  0.6454972 -0.4082483     "
            ]
          },
          "metadata": {}
        },
        {
          "output_type": "display_data",
          "data": {
            "text/html": [
              "<style>\n",
              ".list-inline {list-style: none; margin:0; padding: 0}\n",
              ".list-inline>li {display: inline-block}\n",
              ".list-inline>li:not(:last-child)::after {content: \"\\00b7\"; padding: 0 .5ex}\n",
              "</style>\n",
              "<ol class=list-inline><li>2</li><li>2</li><li>2</li></ol>\n"
            ],
            "text/markdown": "1. 2\n2. 2\n3. 2\n\n\n",
            "text/latex": "\\begin{enumerate*}\n\\item 2\n\\item 2\n\\item 2\n\\end{enumerate*}\n",
            "text/plain": [
              "[1] 2 2 2"
            ]
          },
          "metadata": {}
        }
      ]
    },
    {
      "cell_type": "code",
      "source": [
        "# присвоим метки кластеров исходному набору данных\n",
        "df$Cluster <- clust$cluster\n",
        "df$Cluster.Label <- as.character(clust$cluster)\n",
        "\n",
        "df_scaled$Cluster <- clust$cluster\n",
        "df_scaled$Cluster.Label <- as.character(clust$cluster)\n",
        "\n",
        "head(df)"
      ],
      "metadata": {
        "colab": {
          "base_uri": "https://localhost:8080/",
          "height": 286
        },
        "id": "4vyFroj_Pujr",
        "outputId": "d60cfc38-43e0-4460-df61-50b4929bdc0f"
      },
      "execution_count": 18,
      "outputs": [
        {
          "output_type": "display_data",
          "data": {
            "text/html": [
              "<table class=\"dataframe\">\n",
              "<caption>A data.frame: 6 × 13</caption>\n",
              "<thead>\n",
              "\t<tr><th></th><th scope=col>age</th><th scope=col>weight</th><th scope=col>height</th><th scope=col>ufc_wins</th><th scope=col>ufc_loses</th><th scope=col>ufc_draws</th><th scope=col>ufc_no_contests</th><th scope=col>mma_wins</th><th scope=col>mma_loses</th><th scope=col>mma_draws</th><th scope=col>mma_no_contests</th><th scope=col>Cluster</th><th scope=col>Cluster.Label</th></tr>\n",
              "\t<tr><th></th><th scope=col>&lt;int&gt;</th><th scope=col>&lt;int&gt;</th><th scope=col>&lt;int&gt;</th><th scope=col>&lt;int&gt;</th><th scope=col>&lt;int&gt;</th><th scope=col>&lt;int&gt;</th><th scope=col>&lt;int&gt;</th><th scope=col>&lt;int&gt;</th><th scope=col>&lt;int&gt;</th><th scope=col>&lt;int&gt;</th><th scope=col>&lt;int&gt;</th><th scope=col>&lt;int&gt;</th><th scope=col>&lt;chr&gt;</th></tr>\n",
              "</thead>\n",
              "<tbody>\n",
              "\t<tr><th scope=row>93</th><td>29</td><td>185</td><td>75</td><td> 8</td><td> 5</td><td>0</td><td>1</td><td>21</td><td> 8</td><td>0</td><td>1</td><td>1</td><td>1</td></tr>\n",
              "\t<tr><th scope=row>260</th><td>28</td><td>185</td><td>75</td><td> 1</td><td> 2</td><td>0</td><td>1</td><td>10</td><td> 2</td><td>0</td><td>1</td><td>1</td><td>1</td></tr>\n",
              "\t<tr><th scope=row>284</th><td>38</td><td>170</td><td>72</td><td>29</td><td>16</td><td>1</td><td>1</td><td>36</td><td>16</td><td>1</td><td>1</td><td>3</td><td>3</td></tr>\n",
              "\t<tr><th scope=row>300</th><td>37</td><td>170</td><td>71</td><td> 3</td><td> 3</td><td>1</td><td>2</td><td>19</td><td> 4</td><td>1</td><td>2</td><td>2</td><td>2</td></tr>\n",
              "\t<tr><th scope=row>412</th><td>33</td><td>145</td><td>71</td><td> 2</td><td> 2</td><td>1</td><td>1</td><td>19</td><td> 3</td><td>1</td><td>1</td><td>2</td><td>2</td></tr>\n",
              "\t<tr><th scope=row>471</th><td>37</td><td>135</td><td>66</td><td>16</td><td> 7</td><td>1</td><td>1</td><td>27</td><td>10</td><td>1</td><td>1</td><td>3</td><td>3</td></tr>\n",
              "</tbody>\n",
              "</table>\n"
            ],
            "text/markdown": "\nA data.frame: 6 × 13\n\n| <!--/--> | age &lt;int&gt; | weight &lt;int&gt; | height &lt;int&gt; | ufc_wins &lt;int&gt; | ufc_loses &lt;int&gt; | ufc_draws &lt;int&gt; | ufc_no_contests &lt;int&gt; | mma_wins &lt;int&gt; | mma_loses &lt;int&gt; | mma_draws &lt;int&gt; | mma_no_contests &lt;int&gt; | Cluster &lt;int&gt; | Cluster.Label &lt;chr&gt; |\n|---|---|---|---|---|---|---|---|---|---|---|---|---|---|\n| 93 | 29 | 185 | 75 |  8 |  5 | 0 | 1 | 21 |  8 | 0 | 1 | 1 | 1 |\n| 260 | 28 | 185 | 75 |  1 |  2 | 0 | 1 | 10 |  2 | 0 | 1 | 1 | 1 |\n| 284 | 38 | 170 | 72 | 29 | 16 | 1 | 1 | 36 | 16 | 1 | 1 | 3 | 3 |\n| 300 | 37 | 170 | 71 |  3 |  3 | 1 | 2 | 19 |  4 | 1 | 2 | 2 | 2 |\n| 412 | 33 | 145 | 71 |  2 |  2 | 1 | 1 | 19 |  3 | 1 | 1 | 2 | 2 |\n| 471 | 37 | 135 | 66 | 16 |  7 | 1 | 1 | 27 | 10 | 1 | 1 | 3 | 3 |\n\n",
            "text/latex": "A data.frame: 6 × 13\n\\begin{tabular}{r|lllllllllllll}\n  & age & weight & height & ufc\\_wins & ufc\\_loses & ufc\\_draws & ufc\\_no\\_contests & mma\\_wins & mma\\_loses & mma\\_draws & mma\\_no\\_contests & Cluster & Cluster.Label\\\\\n  & <int> & <int> & <int> & <int> & <int> & <int> & <int> & <int> & <int> & <int> & <int> & <int> & <chr>\\\\\n\\hline\n\t93 & 29 & 185 & 75 &  8 &  5 & 0 & 1 & 21 &  8 & 0 & 1 & 1 & 1\\\\\n\t260 & 28 & 185 & 75 &  1 &  2 & 0 & 1 & 10 &  2 & 0 & 1 & 1 & 1\\\\\n\t284 & 38 & 170 & 72 & 29 & 16 & 1 & 1 & 36 & 16 & 1 & 1 & 3 & 3\\\\\n\t300 & 37 & 170 & 71 &  3 &  3 & 1 & 2 & 19 &  4 & 1 & 2 & 2 & 2\\\\\n\t412 & 33 & 145 & 71 &  2 &  2 & 1 & 1 & 19 &  3 & 1 & 1 & 2 & 2\\\\\n\t471 & 37 & 135 & 66 & 16 &  7 & 1 & 1 & 27 & 10 & 1 & 1 & 3 & 3\\\\\n\\end{tabular}\n",
            "text/plain": [
              "    age weight height ufc_wins ufc_loses ufc_draws ufc_no_contests mma_wins\n",
              "93  29  185    75      8        5        0         1               21      \n",
              "260 28  185    75      1        2        0         1               10      \n",
              "284 38  170    72     29       16        1         1               36      \n",
              "300 37  170    71      3        3        1         2               19      \n",
              "412 33  145    71      2        2        1         1               19      \n",
              "471 37  135    66     16        7        1         1               27      \n",
              "    mma_loses mma_draws mma_no_contests Cluster Cluster.Label\n",
              "93   8        0         1               1       1            \n",
              "260  2        0         1               1       1            \n",
              "284 16        1         1               3       3            \n",
              "300  4        1         2               2       2            \n",
              "412  3        1         1               2       2            \n",
              "471 10        1         1               3       3            "
            ]
          },
          "metadata": {}
        }
      ]
    },
    {
      "cell_type": "code",
      "source": [
        "# Make plots wider \n",
        "options(repr.plot.width=15, repr.plot.height=8)"
      ],
      "metadata": {
        "id": "aPhmftSGPzh6"
      },
      "execution_count": 19,
      "outputs": []
    },
    {
      "cell_type": "code",
      "source": [
        "# Построим тепловую карту\n",
        "center <- clust$centers\n",
        "\n",
        "# Create dataset with the cluster number\n",
        "cluster <- c(1:nrow(center))\n",
        "center_df <- data.frame(cluster, center)\n",
        "\n",
        "# Reshape the data\n",
        "center_reshape <- gather(center_df, features, values, age:mma_no_contests)\n",
        "head(center_reshape)"
      ],
      "metadata": {
        "colab": {
          "base_uri": "https://localhost:8080/",
          "height": 286
        },
        "id": "_3HRM62CP3ic",
        "outputId": "891f8858-442f-4cc9-c274-c4407bda9874"
      },
      "execution_count": 21,
      "outputs": [
        {
          "output_type": "display_data",
          "data": {
            "text/html": [
              "<table class=\"dataframe\">\n",
              "<caption>A data.frame: 6 × 3</caption>\n",
              "<thead>\n",
              "\t<tr><th></th><th scope=col>cluster</th><th scope=col>features</th><th scope=col>values</th></tr>\n",
              "\t<tr><th></th><th scope=col>&lt;int&gt;</th><th scope=col>&lt;chr&gt;</th><th scope=col>&lt;dbl&gt;</th></tr>\n",
              "</thead>\n",
              "<tbody>\n",
              "\t<tr><th scope=row>1</th><td>1</td><td>age   </td><td>-1.1832406</td></tr>\n",
              "\t<tr><th scope=row>2</th><td>2</td><td>age   </td><td> 0.3053524</td></tr>\n",
              "\t<tr><th scope=row>3</th><td>3</td><td>age   </td><td> 0.8778882</td></tr>\n",
              "\t<tr><th scope=row>4</th><td>1</td><td>weight</td><td> 0.9644856</td></tr>\n",
              "\t<tr><th scope=row>5</th><td>2</td><td>weight</td><td>-0.3616821</td></tr>\n",
              "\t<tr><th scope=row>6</th><td>3</td><td>weight</td><td>-0.6028035</td></tr>\n",
              "</tbody>\n",
              "</table>\n"
            ],
            "text/markdown": "\nA data.frame: 6 × 3\n\n| <!--/--> | cluster &lt;int&gt; | features &lt;chr&gt; | values &lt;dbl&gt; |\n|---|---|---|---|\n| 1 | 1 | age    | -1.1832406 |\n| 2 | 2 | age    |  0.3053524 |\n| 3 | 3 | age    |  0.8778882 |\n| 4 | 1 | weight |  0.9644856 |\n| 5 | 2 | weight | -0.3616821 |\n| 6 | 3 | weight | -0.6028035 |\n\n",
            "text/latex": "A data.frame: 6 × 3\n\\begin{tabular}{r|lll}\n  & cluster & features & values\\\\\n  & <int> & <chr> & <dbl>\\\\\n\\hline\n\t1 & 1 & age    & -1.1832406\\\\\n\t2 & 2 & age    &  0.3053524\\\\\n\t3 & 3 & age    &  0.8778882\\\\\n\t4 & 1 & weight &  0.9644856\\\\\n\t5 & 2 & weight & -0.3616821\\\\\n\t6 & 3 & weight & -0.6028035\\\\\n\\end{tabular}\n",
            "text/plain": [
              "  cluster features values    \n",
              "1 1       age      -1.1832406\n",
              "2 2       age       0.3053524\n",
              "3 3       age       0.8778882\n",
              "4 1       weight    0.9644856\n",
              "5 2       weight   -0.3616821\n",
              "6 3       weight   -0.6028035"
            ]
          },
          "metadata": {}
        }
      ]
    },
    {
      "cell_type": "code",
      "source": [
        "# Create the palette\n",
        "hm.palette <-colorRampPalette(rev(brewer.pal(10, 'RdYlGn')), space='Lab')\n",
        "\n",
        "# Plot the heat map\n",
        "ggplot(data = center_reshape, aes(x = features, y = cluster, fill = values)) +\n",
        "    scale_y_continuous(breaks = seq(1, 8, by = 1)) +\n",
        "    geom_tile() +\n",
        "    coord_equal() +\n",
        "    scale_fill_gradientn(colours = hm.palette(50)) +\n",
        "    theme(aspect.ratio = 0.85)"
      ],
      "metadata": {
        "colab": {
          "base_uri": "https://localhost:8080/",
          "height": 497
        },
        "id": "V3KsDCU_RF_a",
        "outputId": "8622b798-ce55-4b22-9a17-e1cc2eeb502a"
      },
      "execution_count": 22,
      "outputs": [
        {
          "output_type": "display_data",
          "data": {
            "text/plain": [
              "plot without title"
            ],
            "image/png": "[encoded data removed]"
          },
          "metadata": {
            "image/png": {
              "width": 900,
              "height": 480
            }
          }
        }
      ]
    },
    {
      "cell_type": "code",
      "source": [
        "# визуализация данных в разрезе возраста и без результата с центрами кластеров\n",
        "ggplot() +\n",
        "  geom_point(data = df_scaled, mapping = aes(x = age, y = mma_no_contests, colour = Cluster.Label)) +\n",
        "    geom_point(mapping = aes_string(x = clust$centers[, \"age\"], \n",
        "                                  y = clust$centers[, \"mma_no_contests\"]),\n",
        "                                  color = \"red\", size = 4)"
      ],
      "metadata": {
        "colab": {
          "base_uri": "https://localhost:8080/",
          "height": 497
        },
        "id": "Xw6kwH4nRXe9",
        "outputId": "402d7b16-0375-44a8-f7e6-eeddd2a77c9a"
      },
      "execution_count": 26,
      "outputs": [
        {
          "output_type": "display_data",
          "data": {
            "text/plain": [
              "plot without title"
            ],
            "image/png": "[encoded data removed]"
          },
          "metadata": {
            "image/png": {
              "width": 900,
              "height": 480
            }
          }
        }
      ]
    },
    {
      "cell_type": "code",
      "source": [
        "# libraries\n",
        "install.packages(\"naivebayes\")\n",
        "install.packages(\"psych\")\n",
        "\n",
        "library(naivebayes)\n",
        "library(dplyr)\n",
        "library(ggplot2)\n",
        "library(psych)"
      ],
      "metadata": {
        "colab": {
          "base_uri": "https://localhost:8080/"
        },
        "id": "z2u7sBeJR9oP",
        "outputId": "b77d293e-1e6b-4415-b0f1-fcacb440d8e5"
      },
      "execution_count": 27,
      "outputs": [
        {
          "output_type": "stream",
          "name": "stderr",
          "text": [
            "Installing package into ‘/usr/local/lib/R/site-library’\n",
            "(as ‘lib’ is unspecified)\n",
            "\n",
            "Installing package into ‘/usr/local/lib/R/site-library’\n",
            "(as ‘lib’ is unspecified)\n",
            "\n",
            "also installing the dependency ‘mnormt’\n",
            "\n",
            "\n",
            "naivebayes 0.9.7 loaded\n",
            "\n",
            "\n",
            "Attaching package: ‘dplyr’\n",
            "\n",
            "\n",
            "The following objects are masked from ‘package:stats’:\n",
            "\n",
            "    filter, lag\n",
            "\n",
            "\n",
            "The following objects are masked from ‘package:base’:\n",
            "\n",
            "    intersect, setdiff, setequal, union\n",
            "\n",
            "\n",
            "\n",
            "Attaching package: ‘psych’\n",
            "\n",
            "\n",
            "The following objects are masked from ‘package:ggplot2’:\n",
            "\n",
            "    %+%, alpha\n",
            "\n",
            "\n"
          ]
        }
      ]
    },
    {
      "cell_type": "code",
      "source": [
        "# считываем датасет\n",
        "getwd()\n",
        "data <- read.csv(\"ufc_master_data.csv\")"
      ],
      "metadata": {
        "colab": {
          "base_uri": "https://localhost:8080/",
          "height": 34
        },
        "id": "F6P7MeICSMHo",
        "outputId": "63285dbc-b123-46eb-a8b1-bbc75f075887"
      },
      "execution_count": 28,
      "outputs": [
        {
          "output_type": "display_data",
          "data": {
            "text/html": [
              "'/content'"
            ],
            "text/markdown": "'/content'",
            "text/latex": "'/content'",
            "text/plain": [
              "[1] \"/content\""
            ]
          },
          "metadata": {}
        }
      ]
    },
    {
      "cell_type": "code",
      "source": [
        "# содержимое данных\n",
        "str(data)\n",
        "summary(data) "
      ],
      "metadata": {
        "colab": {
          "base_uri": "https://localhost:8080/",
          "height": 833
        },
        "id": "PNPrGd98SXe6",
        "outputId": "3c175c41-7d66-4a3c-d2ce-6fb953422236"
      },
      "execution_count": 29,
      "outputs": [
        {
          "output_type": "stream",
          "name": "stdout",
          "text": [
            "'data.frame':\t617 obs. of  14 variables:\n",
            " $ ranking        : chr  \"C\" \"1\" \"2\" \"3\" ...\n",
            " $ name           : chr  \"Brandon Moreno\" \"Deiveson Figueiredo\" \"Askar Askarov\" \"Alexandre Pantoja\" ...\n",
            " $ age            : int  27 33 29 31 29 29 28 29 28 31 ...\n",
            " $ weight         : int  125 125 125 125 125 125 125 125 125 125 ...\n",
            " $ gender         : chr  \"Male\" \"Male\" \"Male\" \"Male\" ...\n",
            " $ height         : int  67 65 65 65 64 67 65 65 66 68 ...\n",
            " $ ufc_wins       : int  8 9 3 8 6 2 5 3 5 5 ...\n",
            " $ ufc_loses      : int  2 2 0 3 2 2 2 2 1 4 ...\n",
            " $ ufc_draws      : int  2 1 1 NA NA NA NA NA NA NA ...\n",
            " $ ufc_no_contests: int  NA NA NA NA NA NA NA NA NA NA ...\n",
            " $ mma_wins       : int  19 20 14 24 24 12 22 17 17 15 ...\n",
            " $ mma_loses      : int  5 2 0 5 6 6 9 3 2 6 ...\n",
            " $ mma_draws      : int  2 1 1 NA NA NA NA NA 1 NA ...\n",
            " $ mma_no_contests: int  NA NA NA NA NA NA 1 1 NA NA ...\n"
          ]
        },
        {
          "output_type": "display_data",
          "data": {
            "text/plain": [
              "   ranking              name                age            weight     \n",
              " Length:617         Length:617         Min.   :21.00   Min.   :115.0  \n",
              " Class :character   Class :character   1st Qu.:28.00   1st Qu.:135.0  \n",
              " Mode  :character   Mode  :character   Median :31.00   Median :145.0  \n",
              "                                       Mean   :31.13   Mean   :159.7  \n",
              "                                       3rd Qu.:34.00   3rd Qu.:170.0  \n",
              "                                       Max.   :44.00   Max.   :265.0  \n",
              "                                                                      \n",
              "    gender              height         ufc_wins        ufc_loses     \n",
              " Length:617         Min.   :59.00   Min.   : 0.000   Min.   : 0.000  \n",
              " Class :character   1st Qu.:67.00   1st Qu.: 1.000   1st Qu.: 1.000  \n",
              " Mode  :character   Median :69.00   Median : 3.000   Median : 2.000  \n",
              "                    Mean   :69.53   Mean   : 4.686   Mean   : 2.901  \n",
              "                    3rd Qu.:72.00   3rd Qu.: 6.000   3rd Qu.: 4.000  \n",
              "                    Max.   :79.00   Max.   :29.000   Max.   :18.000  \n",
              "                                                                     \n",
              "   ufc_draws   ufc_no_contests    mma_wins       mma_loses        mma_draws    \n",
              " Min.   :0     Min.   :1.000   Min.   : 1.00   Min.   : 0.000   Min.   :0.000  \n",
              " 1st Qu.:1     1st Qu.:1.000   1st Qu.:10.00   1st Qu.: 2.000   1st Qu.:1.000  \n",
              " Median :1     Median :1.000   Median :14.00   Median : 4.000   Median :1.000  \n",
              " Mean   :1     Mean   :1.046   Mean   :14.63   Mean   : 4.631   Mean   :1.098  \n",
              " 3rd Qu.:1     3rd Qu.:1.000   3rd Qu.:18.00   3rd Qu.: 6.000   3rd Qu.:1.000  \n",
              " Max.   :2     Max.   :2.000   Max.   :59.00   Max.   :21.000   Max.   :2.000  \n",
              " NA's   :573   NA's   :574     NA's   :2       NA's   :2        NA's   :535    \n",
              " mma_no_contests\n",
              " Min.   :1.000  \n",
              " 1st Qu.:1.000  \n",
              " Median :1.000  \n",
              " Mean   :1.088  \n",
              " 3rd Qu.:1.000  \n",
              " Max.   :2.000  \n",
              " NA's   :549    "
            ]
          },
          "metadata": {}
        }
      ]
    },
    {
      "cell_type": "code",
      "source": [
        "# поля weight и height категориальные переменные, приведем к фактору (строка-категория)\n",
        "data$weight <- as.factor(data$weight)\n",
        "data$ranking <- as.factor(data$ranking)"
      ],
      "metadata": {
        "id": "wWB_3e3rSc0A"
      },
      "execution_count": 55,
      "outputs": []
    },
    {
      "cell_type": "code",
      "source": [
        "# разбиение выборки на обучающую и тестовую выборки в пропорции 80% к 20% соответственно\n",
        "set.seed(42)\n",
        "ind <- sample(2, nrow(data), replace=TRUE, prob=c(0.8,.2))\n",
        "train <- data[ind==1,]\n",
        "test <- data[ind==2,]"
      ],
      "metadata": {
        "id": "D9WV0z_kTC5O"
      },
      "execution_count": 56,
      "outputs": []
    },
    {
      "cell_type": "code",
      "source": [
        "# модель Naive Bayes; weight как функция для всех остальных данных (.)\n",
        "model <- naive_bayes(weight ~ ., data = train, usekernel = T)\n",
        "model"
      ],
      "metadata": {
        "colab": {
          "base_uri": "https://localhost:8080/",
          "height": 1000
        },
        "id": "JzldVn4rTJQj",
        "outputId": "1b3b1f47-fa67-438f-aec6-30376dcefcd0"
      },
      "execution_count": 58,
      "outputs": [
        {
          "output_type": "stream",
          "name": "stderr",
          "text": [
            "Warning message:\n",
            "“naive_bayes(): Feature ranking - zero probabilities are present. Consider Laplace smoothing.”\n",
            "Warning message:\n",
            "“naive_bayes(): Feature name - zero probabilities are present. Consider Laplace smoothing.”\n",
            "Warning message:\n",
            "“naive_bayes(): Feature age - zero probabilities are present. Consider Laplace smoothing.”\n",
            "Warning message:\n",
            "“naive_bayes(): Feature gender - zero probabilities are present. Consider Laplace smoothing.”\n",
            "Warning message:\n",
            "“naive_bayes(): Feature height - zero probabilities are present. Consider Laplace smoothing.”\n",
            "Warning message:\n",
            "“naive_bayes(): Feature ufc_wins - zero probabilities are present. Consider Laplace smoothing.”\n"
          ]
        },
        {
          "output_type": "error",
          "ename": "ERROR",
          "evalue": "ignored",
          "traceback": [
            "Error in density.default(x, na.rm = TRUE, ...): need at least 2 points to select a bandwidth automatically\nTraceback:\n",
            "1. naive_bayes(weight ~ ., data = train, usekernel = T)",
            "2. naive_bayes.formula(weight ~ ., data = train, usekernel = T)",
            "3. naive_bayes.default(data, y, prior, laplace, usekernel, usepoisson, \n .     ...)",
            "4. sapply(names(data), function(x, ...) {\n .     var <- data[[x]]\n .     if (is.numeric(var)) {\n .         if (is.integer(var) & usepoisson) {\n .             if (any(var < 0, na.rm = TRUE)) \n .                 warning(paste0(\"naive_bayes(): The feature \", \n .                   x, \" is modelled with Poisson \", \"distribution in \\\"naive_bayes\\\" and it contains negative counts\"), \n .                   call. = FALSE)\n .             tab <- rbind(tapply(var, y, function(x) (sum(x, na.rm = TRUE) + \n .                 laplace)/ifelse(anyNA(x), length(x[!is.na(x)]), \n .                 length(x))))\n .             attr(tab, \"cond_dist\") <- \"Poisson\"\n .             rownames(tab) <- \"lambda\"\n .             tab <- as.table(tab)\n .             if (any(tab == 0)) \n .                 warning(paste0(\"naive_bayes(): Feature \", x, \n .                   \" - zero lambda estimates are present. Consider Laplace smoothing.\"), \n .                   call. = FALSE)\n .             tab\n .         }\n .         else {\n .             if (usekernel) {\n .                 tab <- tapply(var, y, function(x, ...) stats::density(x, \n .                   na.rm = TRUE, ...), ...)\n .                 attr(tab, \"cond_dist\") <- \"KDE\"\n .                 tab\n .             }\n .             else {\n .                 tab <- rbind(tapply(var, y, mean, na.rm = TRUE), \n .                   tapply(var, y, stats::sd, na.rm = TRUE))\n .                 rownames(tab) <- c(\"mean\", \"sd\")\n .                 names(dimnames(tab)) <- c(x, \"\")\n .                 attr(tab, \"cond_dist\") <- \"Gaussian\"\n .                 as.table(tab)\n .             }\n .         }\n .     }\n .     else {\n .         tab <- table(y, var, dnn = c(\"\", x))\n .         if (any(tab == 0) & laplace == FALSE) \n .             warning(paste0(\"naive_bayes(): Feature \", x, \" - zero probabilities are present. Consider Laplace smoothing.\"), \n .                 call. = FALSE)\n .         tab <- t((tab + laplace)/(rowSums(tab) + laplace * ncol(tab)))\n .         attr(tab, \"cond_dist\") <- ifelse(nrow(tab) == 2, \"Bernoulli\", \n .             \"Categorical\")\n .         tab\n .     }\n . }, simplify = FALSE, ...)",
            "5. lapply(X = X, FUN = FUN, ...)",
            "6. FUN(X[[i]], ...)",
            "7. tapply(var, y, function(x, ...) stats::density(x, na.rm = TRUE, \n .     ...), ...)",
            "8. lapply(X = ans[index], FUN = FUN, ...)",
            "9. FUN(X[[i]], ...)",
            "10. stats::density(x, na.rm = TRUE, ...)",
            "11. density.default(x, na.rm = TRUE, ...)",
            "12. stop(\"need at least 2 points to select a bandwidth automatically\")"
          ]
        }
      ]
    }
  ]
}